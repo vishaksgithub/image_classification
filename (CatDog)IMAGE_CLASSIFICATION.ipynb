{
  "nbformat": 4,
  "nbformat_minor": 0,
  "metadata": {
    "colab": {
      "provenance": []
    },
    "kernelspec": {
      "name": "python3",
      "display_name": "Python 3"
    },
    "language_info": {
      "name": "python"
    }
  },
  "cells": [
    {
      "cell_type": "code",
      "source": [
        "import pandas as pd\n",
        "import numpy as np\n",
        "import os\n",
        "# os is used to acess files and to perform functions to manage files\n",
        "from sklearn.svm import SVC\n",
        "from skimage.io import imread\n",
        "from skimage.transform import resize\n",
        "from sklearn.model_selection import train_test_split\n",
        "from sklearn.metrics import classification_report,ConfusionMatrixDisplay"
      ],
      "metadata": {
        "id": "J6-LI6f9Tg7v"
      },
      "execution_count": null,
      "outputs": []
    },
    {
      "cell_type": "code",
      "source": [
        "os.listdir('/content/drive/MyDrive/Data')\n",
        "# lisdirectory shows everything in the folder as a list"
      ],
      "metadata": {
        "colab": {
          "base_uri": "https://localhost:8080/"
        },
        "id": "WKLmuFNqWoqK",
        "outputId": "9fd39624-8717-4ad0-df5b-31aec7029a12"
      },
      "execution_count": null,
      "outputs": [
        {
          "output_type": "execute_result",
          "data": {
            "text/plain": [
              "['Cat', 'Dog']"
            ]
          },
          "metadata": {},
          "execution_count": 2
        }
      ]
    },
    {
      "cell_type": "code",
      "source": [
        "len(os.listdir('/content/drive/MyDrive/Data/Cat'))"
      ],
      "metadata": {
        "colab": {
          "base_uri": "https://localhost:8080/"
        },
        "id": "8_Gauf_NW_8g",
        "outputId": "884ec911-3cb0-4c84-85b8-7f336b3910e5"
      },
      "execution_count": null,
      "outputs": [
        {
          "output_type": "execute_result",
          "data": {
            "text/plain": [
              "60"
            ]
          },
          "metadata": {},
          "execution_count": 3
        }
      ]
    },
    {
      "cell_type": "code",
      "source": [
        "len(os.listdir('/content/drive/MyDrive/Data/Dog'))"
      ],
      "metadata": {
        "colab": {
          "base_uri": "https://localhost:8080/"
        },
        "id": "gkH8m-FSXagX",
        "outputId": "8961dde5-a5e4-46e1-96e6-640b4d2c7814"
      },
      "execution_count": null,
      "outputs": [
        {
          "output_type": "execute_result",
          "data": {
            "text/plain": [
              "66"
            ]
          },
          "metadata": {},
          "execution_count": 4
        }
      ]
    },
    {
      "cell_type": "code",
      "source": [
        "datadir='/content/drive/MyDrive/Data'\n",
        "lst=os.listdir(datadir)\n",
        "print(lst)\n",
        "for i in lst:\n",
        "  subpath=os.path.join(datadir,i)\n",
        "  print(subpath)\n",
        "  images=os.listdir(subpath)\n",
        "  print(images)\n",
        "  for i in images:\n",
        "    imgpath=os.path.join(subpath,i)\n",
        "    print(imgpath)\n"
      ],
      "metadata": {
        "colab": {
          "base_uri": "https://localhost:8080/"
        },
        "id": "bkeuA9T-X2IX",
        "outputId": "547b16f4-3665-43cc-952d-3d5309fb5071"
      },
      "execution_count": null,
      "outputs": [
        {
          "output_type": "stream",
          "name": "stdout",
          "text": [
            "['Cat', 'Dog']\n",
            "/content/drive/MyDrive/Data/Cat\n",
            "['images.jpeg', 'cat.41.jpg', 'download.jpeg', 'images9.jpeg', 'cat.8.jpg', 'download1.jpeg', 'download8.jpeg', 'cat.7.jpg', 'cat.42.jpg', 'cat.44.jpg', 'cat.18.jpg', 'cat.3 - Copy.jpg', 'cat.11.jpg', 'cat.10.jpg', 'cat.27.jpg', 'cat.53.jpg', 'cat.15.jpg', 'cat.48.jpg', 'cat.21.jpg', 'cat.29.jpg', 'cat.39.jpg', 'cat.31.jpg', 'cat.54.jpg', 'cat.47.jpg', 'download5.jpeg', 'cat.52.jpg', 'cat.43.jpg', 'cat.50.jpg', 'cat.16.jpg', 'download7.jpeg', 'download4.jpeg', 'cat.14.jpg', 'cat.20.jpg', 'cat.4 - Copy.jpg', 'cat.30.jpg', 'download2.jpeg', 'cat.35.jpg', 'cat.38.jpg', 'cat.1 - Copy.jpg', 'cat.5.jpg', 'cat.5 - Copy.jpg', 'cat.12.jpg', 'cat.13.jpg', 'cat.2 - Copy.jpg', 'cat.33.jpg', 'download6.jpeg', 'downloadcat.jpeg', 'cat.17.jpg', 'cat.49.jpg', 'cat.51.jpg', 'cat.28.jpg', 'cat.40.jpg', 'cat.32.jpg', 'cat.9.jpg', 'cat.34.jpg', 'cat.36.jpg', 'download3.jpeg', 'cat.46.jpg', 'cat.37.jpg', 'cat.24.jpg']\n",
            "/content/drive/MyDrive/Data/Cat/images.jpeg\n",
            "/content/drive/MyDrive/Data/Cat/cat.41.jpg\n",
            "/content/drive/MyDrive/Data/Cat/download.jpeg\n",
            "/content/drive/MyDrive/Data/Cat/images9.jpeg\n",
            "/content/drive/MyDrive/Data/Cat/cat.8.jpg\n",
            "/content/drive/MyDrive/Data/Cat/download1.jpeg\n",
            "/content/drive/MyDrive/Data/Cat/download8.jpeg\n",
            "/content/drive/MyDrive/Data/Cat/cat.7.jpg\n",
            "/content/drive/MyDrive/Data/Cat/cat.42.jpg\n",
            "/content/drive/MyDrive/Data/Cat/cat.44.jpg\n",
            "/content/drive/MyDrive/Data/Cat/cat.18.jpg\n",
            "/content/drive/MyDrive/Data/Cat/cat.3 - Copy.jpg\n",
            "/content/drive/MyDrive/Data/Cat/cat.11.jpg\n",
            "/content/drive/MyDrive/Data/Cat/cat.10.jpg\n",
            "/content/drive/MyDrive/Data/Cat/cat.27.jpg\n",
            "/content/drive/MyDrive/Data/Cat/cat.53.jpg\n",
            "/content/drive/MyDrive/Data/Cat/cat.15.jpg\n",
            "/content/drive/MyDrive/Data/Cat/cat.48.jpg\n",
            "/content/drive/MyDrive/Data/Cat/cat.21.jpg\n",
            "/content/drive/MyDrive/Data/Cat/cat.29.jpg\n",
            "/content/drive/MyDrive/Data/Cat/cat.39.jpg\n",
            "/content/drive/MyDrive/Data/Cat/cat.31.jpg\n",
            "/content/drive/MyDrive/Data/Cat/cat.54.jpg\n",
            "/content/drive/MyDrive/Data/Cat/cat.47.jpg\n",
            "/content/drive/MyDrive/Data/Cat/download5.jpeg\n",
            "/content/drive/MyDrive/Data/Cat/cat.52.jpg\n",
            "/content/drive/MyDrive/Data/Cat/cat.43.jpg\n",
            "/content/drive/MyDrive/Data/Cat/cat.50.jpg\n",
            "/content/drive/MyDrive/Data/Cat/cat.16.jpg\n",
            "/content/drive/MyDrive/Data/Cat/download7.jpeg\n",
            "/content/drive/MyDrive/Data/Cat/download4.jpeg\n",
            "/content/drive/MyDrive/Data/Cat/cat.14.jpg\n",
            "/content/drive/MyDrive/Data/Cat/cat.20.jpg\n",
            "/content/drive/MyDrive/Data/Cat/cat.4 - Copy.jpg\n",
            "/content/drive/MyDrive/Data/Cat/cat.30.jpg\n",
            "/content/drive/MyDrive/Data/Cat/download2.jpeg\n",
            "/content/drive/MyDrive/Data/Cat/cat.35.jpg\n",
            "/content/drive/MyDrive/Data/Cat/cat.38.jpg\n",
            "/content/drive/MyDrive/Data/Cat/cat.1 - Copy.jpg\n",
            "/content/drive/MyDrive/Data/Cat/cat.5.jpg\n",
            "/content/drive/MyDrive/Data/Cat/cat.5 - Copy.jpg\n",
            "/content/drive/MyDrive/Data/Cat/cat.12.jpg\n",
            "/content/drive/MyDrive/Data/Cat/cat.13.jpg\n",
            "/content/drive/MyDrive/Data/Cat/cat.2 - Copy.jpg\n",
            "/content/drive/MyDrive/Data/Cat/cat.33.jpg\n",
            "/content/drive/MyDrive/Data/Cat/download6.jpeg\n",
            "/content/drive/MyDrive/Data/Cat/downloadcat.jpeg\n",
            "/content/drive/MyDrive/Data/Cat/cat.17.jpg\n",
            "/content/drive/MyDrive/Data/Cat/cat.49.jpg\n",
            "/content/drive/MyDrive/Data/Cat/cat.51.jpg\n",
            "/content/drive/MyDrive/Data/Cat/cat.28.jpg\n",
            "/content/drive/MyDrive/Data/Cat/cat.40.jpg\n",
            "/content/drive/MyDrive/Data/Cat/cat.32.jpg\n",
            "/content/drive/MyDrive/Data/Cat/cat.9.jpg\n",
            "/content/drive/MyDrive/Data/Cat/cat.34.jpg\n",
            "/content/drive/MyDrive/Data/Cat/cat.36.jpg\n",
            "/content/drive/MyDrive/Data/Cat/download3.jpeg\n",
            "/content/drive/MyDrive/Data/Cat/cat.46.jpg\n",
            "/content/drive/MyDrive/Data/Cat/cat.37.jpg\n",
            "/content/drive/MyDrive/Data/Cat/cat.24.jpg\n",
            "/content/drive/MyDrive/Data/Dog\n",
            "['dog.21.jpg', 'download6.jpeg', 'dog.13.jpg', 'dog.23.jpg', 'download8.jpeg', 'dog.44.jpg', 'dog.70.jpg', 'images.jpeg', 'download5.jpeg', 'dog.60.jpg', 'dog.78.jpg', 'dog.24.jpg', 'dog.57.jpg', 'images1.jpeg', 'dog.31.jpg', 'dog.55.jpg', 'dog.69.jpg', 'dog.33.jpg', 'dog.19.jpg', 'dog.30.jpg', 'dog.17.jpg', 'dog.45.jpg', 'download1.jpeg', 'dog.35.jpg', 'dog.28.jpg', 'dog.81.jpg', 'download2.jpeg', 'dog.14.jpg', 'dog.58.jpg', 'dog.39.jpg', 'dog.79.jpg', 'dog.56.jpg', 'dog.64.jpg', 'dog.25.jpg', 'dog.42.jpg', 'dog.80.jpg', 'dog.82.jpg', 'dog.76.jpg', 'dog.40.jpg', 'dog.34.jpg', 'dog.66.jpg', 'dog.36.jpg', 'dog.38.jpg', 'dog.51.jpg', 'download4.jpeg', 'dog.77.jpg', 'dog.15.jpg', 'dog.32.jpg', 'dog.63.jpg', 'dog.65.jpg', 'dog.47.jpg', 'dog.12.jpg', 'download7.jpeg', 'dog.68.jpg', 'dog.61.jpg', 'dog.22.jpg', 'dog.48.jpg', 'dog.67.jpg', 'dog.27.jpg', 'download3.jpeg', 'dog.71.jpg', 'dog.26.jpg', 'dog.46.jpg', 'dog.16.jpg', 'dog.20.jpg', 'dog.18.jpg']\n",
            "/content/drive/MyDrive/Data/Dog/dog.21.jpg\n",
            "/content/drive/MyDrive/Data/Dog/download6.jpeg\n",
            "/content/drive/MyDrive/Data/Dog/dog.13.jpg\n",
            "/content/drive/MyDrive/Data/Dog/dog.23.jpg\n",
            "/content/drive/MyDrive/Data/Dog/download8.jpeg\n",
            "/content/drive/MyDrive/Data/Dog/dog.44.jpg\n",
            "/content/drive/MyDrive/Data/Dog/dog.70.jpg\n",
            "/content/drive/MyDrive/Data/Dog/images.jpeg\n",
            "/content/drive/MyDrive/Data/Dog/download5.jpeg\n",
            "/content/drive/MyDrive/Data/Dog/dog.60.jpg\n",
            "/content/drive/MyDrive/Data/Dog/dog.78.jpg\n",
            "/content/drive/MyDrive/Data/Dog/dog.24.jpg\n",
            "/content/drive/MyDrive/Data/Dog/dog.57.jpg\n",
            "/content/drive/MyDrive/Data/Dog/images1.jpeg\n",
            "/content/drive/MyDrive/Data/Dog/dog.31.jpg\n",
            "/content/drive/MyDrive/Data/Dog/dog.55.jpg\n",
            "/content/drive/MyDrive/Data/Dog/dog.69.jpg\n",
            "/content/drive/MyDrive/Data/Dog/dog.33.jpg\n",
            "/content/drive/MyDrive/Data/Dog/dog.19.jpg\n",
            "/content/drive/MyDrive/Data/Dog/dog.30.jpg\n",
            "/content/drive/MyDrive/Data/Dog/dog.17.jpg\n",
            "/content/drive/MyDrive/Data/Dog/dog.45.jpg\n",
            "/content/drive/MyDrive/Data/Dog/download1.jpeg\n",
            "/content/drive/MyDrive/Data/Dog/dog.35.jpg\n",
            "/content/drive/MyDrive/Data/Dog/dog.28.jpg\n",
            "/content/drive/MyDrive/Data/Dog/dog.81.jpg\n",
            "/content/drive/MyDrive/Data/Dog/download2.jpeg\n",
            "/content/drive/MyDrive/Data/Dog/dog.14.jpg\n",
            "/content/drive/MyDrive/Data/Dog/dog.58.jpg\n",
            "/content/drive/MyDrive/Data/Dog/dog.39.jpg\n",
            "/content/drive/MyDrive/Data/Dog/dog.79.jpg\n",
            "/content/drive/MyDrive/Data/Dog/dog.56.jpg\n",
            "/content/drive/MyDrive/Data/Dog/dog.64.jpg\n",
            "/content/drive/MyDrive/Data/Dog/dog.25.jpg\n",
            "/content/drive/MyDrive/Data/Dog/dog.42.jpg\n",
            "/content/drive/MyDrive/Data/Dog/dog.80.jpg\n",
            "/content/drive/MyDrive/Data/Dog/dog.82.jpg\n",
            "/content/drive/MyDrive/Data/Dog/dog.76.jpg\n",
            "/content/drive/MyDrive/Data/Dog/dog.40.jpg\n",
            "/content/drive/MyDrive/Data/Dog/dog.34.jpg\n",
            "/content/drive/MyDrive/Data/Dog/dog.66.jpg\n",
            "/content/drive/MyDrive/Data/Dog/dog.36.jpg\n",
            "/content/drive/MyDrive/Data/Dog/dog.38.jpg\n",
            "/content/drive/MyDrive/Data/Dog/dog.51.jpg\n",
            "/content/drive/MyDrive/Data/Dog/download4.jpeg\n",
            "/content/drive/MyDrive/Data/Dog/dog.77.jpg\n",
            "/content/drive/MyDrive/Data/Dog/dog.15.jpg\n",
            "/content/drive/MyDrive/Data/Dog/dog.32.jpg\n",
            "/content/drive/MyDrive/Data/Dog/dog.63.jpg\n",
            "/content/drive/MyDrive/Data/Dog/dog.65.jpg\n",
            "/content/drive/MyDrive/Data/Dog/dog.47.jpg\n",
            "/content/drive/MyDrive/Data/Dog/dog.12.jpg\n",
            "/content/drive/MyDrive/Data/Dog/download7.jpeg\n",
            "/content/drive/MyDrive/Data/Dog/dog.68.jpg\n",
            "/content/drive/MyDrive/Data/Dog/dog.61.jpg\n",
            "/content/drive/MyDrive/Data/Dog/dog.22.jpg\n",
            "/content/drive/MyDrive/Data/Dog/dog.48.jpg\n",
            "/content/drive/MyDrive/Data/Dog/dog.67.jpg\n",
            "/content/drive/MyDrive/Data/Dog/dog.27.jpg\n",
            "/content/drive/MyDrive/Data/Dog/download3.jpeg\n",
            "/content/drive/MyDrive/Data/Dog/dog.71.jpg\n",
            "/content/drive/MyDrive/Data/Dog/dog.26.jpg\n",
            "/content/drive/MyDrive/Data/Dog/dog.46.jpg\n",
            "/content/drive/MyDrive/Data/Dog/dog.16.jpg\n",
            "/content/drive/MyDrive/Data/Dog/dog.20.jpg\n",
            "/content/drive/MyDrive/Data/Dog/dog.18.jpg\n"
          ]
        }
      ]
    },
    {
      "cell_type": "code",
      "source": [
        "photo=imread('/content/drive/MyDrive/Data/Dog/dog.12.jpg')\n",
        "photo"
      ],
      "metadata": {
        "colab": {
          "base_uri": "https://localhost:8080/"
        },
        "id": "kVHJjvL-eM2J",
        "outputId": "d69fde89-34ac-4f94-cd30-994d019b7497"
      },
      "execution_count": null,
      "outputs": [
        {
          "output_type": "execute_result",
          "data": {
            "text/plain": [
              "array([[[ 77, 142, 198],\n",
              "        [ 75, 140, 196],\n",
              "        [ 77, 141, 202],\n",
              "        ...,\n",
              "        [ 16,  14,  17],\n",
              "        [ 14,  12,  13],\n",
              "        [ 14,  12,  13]],\n",
              "\n",
              "       [[ 86, 151, 207],\n",
              "        [ 82, 147, 203],\n",
              "        [ 79, 143, 204],\n",
              "        ...,\n",
              "        [ 16,  14,  17],\n",
              "        [ 14,  12,  13],\n",
              "        [ 14,  12,  13]],\n",
              "\n",
              "       [[ 95, 160, 216],\n",
              "        [ 89, 154, 210],\n",
              "        [ 83, 147, 208],\n",
              "        ...,\n",
              "        [ 15,  13,  16],\n",
              "        [ 13,  11,  12],\n",
              "        [ 13,  11,  12]],\n",
              "\n",
              "       ...,\n",
              "\n",
              "       [[192, 121,  75],\n",
              "        [182, 111,  65],\n",
              "        [175, 102,  57],\n",
              "        ...,\n",
              "        [163,  67,  27],\n",
              "        [159,  66,  23],\n",
              "        [159,  66,  23]],\n",
              "\n",
              "       [[182, 108,  61],\n",
              "        [165,  91,  44],\n",
              "        [150,  73,  27],\n",
              "        ...,\n",
              "        [178,  82,  40],\n",
              "        [168,  72,  30],\n",
              "        [168,  72,  30]],\n",
              "\n",
              "       [[171,  91,  40],\n",
              "        [165,  85,  36],\n",
              "        [150,  68,  20],\n",
              "        ...,\n",
              "        [154,  58,  16],\n",
              "        [161,  64,  22],\n",
              "        [161,  63,  24]]], dtype=uint8)"
            ]
          },
          "metadata": {},
          "execution_count": 6
        }
      ]
    },
    {
      "cell_type": "code",
      "source": [
        "photo.shape"
      ],
      "metadata": {
        "id": "_YF7zdFyeiWj",
        "outputId": "8599b19e-4964-45d0-8502-477b226c324d",
        "colab": {
          "base_uri": "https://localhost:8080/"
        }
      },
      "execution_count": null,
      "outputs": [
        {
          "output_type": "execute_result",
          "data": {
            "text/plain": [
              "(161, 98, 3)"
            ]
          },
          "metadata": {},
          "execution_count": 7
        }
      ]
    },
    {
      "cell_type": "code",
      "source": [
        "\n",
        "Categories=['Cat','Dog']\n",
        "datadir='/content/drive/MyDrive/Data'"
      ],
      "metadata": {
        "id": "f1VkkkZ4GIJg"
      },
      "execution_count": null,
      "outputs": []
    },
    {
      "cell_type": "code",
      "source": [
        "data=[]\n",
        "target=[]\n",
        "for i in Categories:\n",
        "  print('loading category.....',i)\n",
        "  paths=os.path.join(datadir,i)\n",
        "  images=os.listdir(paths)\n",
        "  for img in images:\n",
        "    imgpath=os.path.join(paths,img)\n",
        "    img_array=imread(imgpath)\n",
        "    img_resize=resize(img_array,(150,150,3))\n",
        "    data.append(img_resize.flatten())\n",
        "    target.append(Categories.index(i))\n",
        "    print('loaded category.....',i)\n"
      ],
      "metadata": {
        "colab": {
          "base_uri": "https://localhost:8080/"
        },
        "id": "4VdPXHaxG5uH",
        "outputId": "bb9060de-a932-47ae-efe3-0dcfe669729c"
      },
      "execution_count": null,
      "outputs": [
        {
          "output_type": "stream",
          "name": "stdout",
          "text": [
            "loading category..... Cat\n",
            "loaded category..... Cat\n",
            "loaded category..... Cat\n",
            "loaded category..... Cat\n",
            "loaded category..... Cat\n",
            "loaded category..... Cat\n",
            "loaded category..... Cat\n",
            "loaded category..... Cat\n",
            "loaded category..... Cat\n",
            "loaded category..... Cat\n",
            "loaded category..... Cat\n",
            "loaded category..... Cat\n",
            "loaded category..... Cat\n",
            "loaded category..... Cat\n",
            "loaded category..... Cat\n",
            "loaded category..... Cat\n",
            "loaded category..... Cat\n",
            "loaded category..... Cat\n",
            "loaded category..... Cat\n",
            "loaded category..... Cat\n",
            "loaded category..... Cat\n",
            "loaded category..... Cat\n",
            "loaded category..... Cat\n",
            "loaded category..... Cat\n",
            "loaded category..... Cat\n",
            "loaded category..... Cat\n",
            "loaded category..... Cat\n",
            "loaded category..... Cat\n",
            "loaded category..... Cat\n",
            "loaded category..... Cat\n",
            "loaded category..... Cat\n",
            "loaded category..... Cat\n",
            "loaded category..... Cat\n",
            "loaded category..... Cat\n",
            "loaded category..... Cat\n",
            "loaded category..... Cat\n",
            "loaded category..... Cat\n",
            "loaded category..... Cat\n",
            "loaded category..... Cat\n",
            "loaded category..... Cat\n",
            "loaded category..... Cat\n",
            "loaded category..... Cat\n",
            "loaded category..... Cat\n",
            "loaded category..... Cat\n",
            "loaded category..... Cat\n",
            "loaded category..... Cat\n",
            "loaded category..... Cat\n",
            "loaded category..... Cat\n",
            "loaded category..... Cat\n",
            "loaded category..... Cat\n",
            "loaded category..... Cat\n",
            "loaded category..... Cat\n",
            "loaded category..... Cat\n",
            "loaded category..... Cat\n",
            "loaded category..... Cat\n",
            "loaded category..... Cat\n",
            "loaded category..... Cat\n",
            "loaded category..... Cat\n",
            "loaded category..... Cat\n",
            "loaded category..... Cat\n",
            "loaded category..... Cat\n",
            "loading category..... Dog\n",
            "loaded category..... Dog\n",
            "loaded category..... Dog\n",
            "loaded category..... Dog\n",
            "loaded category..... Dog\n",
            "loaded category..... Dog\n",
            "loaded category..... Dog\n",
            "loaded category..... Dog\n",
            "loaded category..... Dog\n",
            "loaded category..... Dog\n",
            "loaded category..... Dog\n",
            "loaded category..... Dog\n",
            "loaded category..... Dog\n",
            "loaded category..... Dog\n",
            "loaded category..... Dog\n",
            "loaded category..... Dog\n",
            "loaded category..... Dog\n",
            "loaded category..... Dog\n",
            "loaded category..... Dog\n",
            "loaded category..... Dog\n",
            "loaded category..... Dog\n",
            "loaded category..... Dog\n",
            "loaded category..... Dog\n",
            "loaded category..... Dog\n",
            "loaded category..... Dog\n",
            "loaded category..... Dog\n",
            "loaded category..... Dog\n",
            "loaded category..... Dog\n",
            "loaded category..... Dog\n",
            "loaded category..... Dog\n",
            "loaded category..... Dog\n",
            "loaded category..... Dog\n",
            "loaded category..... Dog\n",
            "loaded category..... Dog\n",
            "loaded category..... Dog\n",
            "loaded category..... Dog\n",
            "loaded category..... Dog\n",
            "loaded category..... Dog\n",
            "loaded category..... Dog\n",
            "loaded category..... Dog\n",
            "loaded category..... Dog\n",
            "loaded category..... Dog\n",
            "loaded category..... Dog\n",
            "loaded category..... Dog\n",
            "loaded category..... Dog\n",
            "loaded category..... Dog\n",
            "loaded category..... Dog\n",
            "loaded category..... Dog\n",
            "loaded category..... Dog\n",
            "loaded category..... Dog\n",
            "loaded category..... Dog\n",
            "loaded category..... Dog\n",
            "loaded category..... Dog\n",
            "loaded category..... Dog\n",
            "loaded category..... Dog\n",
            "loaded category..... Dog\n",
            "loaded category..... Dog\n",
            "loaded category..... Dog\n",
            "loaded category..... Dog\n",
            "loaded category..... Dog\n",
            "loaded category..... Dog\n",
            "loaded category..... Dog\n",
            "loaded category..... Dog\n",
            "loaded category..... Dog\n",
            "loaded category..... Dog\n",
            "loaded category..... Dog\n",
            "loaded category..... Dog\n"
          ]
        }
      ]
    },
    {
      "cell_type": "code",
      "source": [
        "df=pd.DataFrame(data)\n",
        "df"
      ],
      "metadata": {
        "colab": {
          "base_uri": "https://localhost:8080/",
          "height": 443
        },
        "id": "PdjeT1LhRJp_",
        "outputId": "39456dc8-e95e-4f61-fa1a-83f563f60ef1"
      },
      "execution_count": null,
      "outputs": [
        {
          "output_type": "execute_result",
          "data": {
            "text/plain": [
              "        0         1         2         3         4         5         6      \\\n",
              "0    0.866723  0.937311  0.976527  0.871291  0.941879  0.981095  0.877716   \n",
              "1    0.268848  0.272769  0.253161  0.268848  0.272769  0.253161  0.268848   \n",
              "2    0.019565  0.023487  0.003879  0.019526  0.023448  0.003840  0.019402   \n",
              "3    0.984314  0.847059  0.831373  0.984314  0.847059  0.831373  0.984314   \n",
              "4    0.154480  0.091735  0.103500  0.169038  0.106293  0.117328  0.167667   \n",
              "..        ...       ...       ...       ...       ...       ...       ...   \n",
              "121  0.469687  0.497138  0.610864  0.520082  0.547533  0.661259  0.546655   \n",
              "122  0.282480  0.176598  0.149147  0.263496  0.157613  0.130162  0.247879   \n",
              "123  0.391491  0.419671  0.282772  0.385622  0.433520  0.286712  0.378182   \n",
              "124  0.592301  0.636024  0.467658  0.643088  0.689688  0.504767  0.654429   \n",
              "125  0.612096  0.506214  0.470920  0.568027  0.467242  0.437046  0.544847   \n",
              "\n",
              "        7         8         9      ...     67490     67491     67492  \\\n",
              "0    0.948305  0.987520  0.881308  ...  0.203221  0.289858  0.231564   \n",
              "1    0.272770  0.253162  0.270758  ...  0.163944  0.305962  0.231452   \n",
              "2    0.023324  0.003716  0.019519  ...  0.115346  0.391870  0.195922   \n",
              "3    0.847059  0.831373  0.984314  ...  0.910501  0.941355  0.890196   \n",
              "4    0.104989  0.107658  0.153240  ...  0.413041  0.386023  0.368375   \n",
              "..        ...       ...       ...  ...       ...       ...       ...   \n",
              "121  0.574106  0.687831  0.500478  ...  0.710503  0.521002  0.552375   \n",
              "122  0.141997  0.114546  0.244835  ...  0.512418  0.432193  0.445754   \n",
              "123  0.455436  0.294385  0.325471  ...  0.244040  0.386638  0.419167   \n",
              "124  0.701192  0.512705  0.689096  ...  0.484030  0.494937  0.492173   \n",
              "125  0.447135  0.420694  0.409511  ...  0.361312  0.395262  0.348204   \n",
              "\n",
              "        67493     67494     67495     67496     67497     67498     67499  \n",
              "0    0.157584  0.345476  0.294443  0.227843  0.353565  0.302585  0.239783  \n",
              "1    0.172628  0.301612  0.227102  0.168278  0.300758  0.226249  0.167425  \n",
              "2    0.105726  0.366772  0.175478  0.085282  0.358876  0.169046  0.078849  \n",
              "3    0.917647  0.941267  0.890287  0.917738  0.945060  0.894079  0.921530  \n",
              "4    0.356778  0.370647  0.342864  0.333848  0.356371  0.347214  0.332845  \n",
              "..        ...       ...       ...       ...       ...       ...       ...  \n",
              "121  0.697473  0.531836  0.563209  0.708307  0.529984  0.561357  0.706455  \n",
              "122  0.481071  0.494081  0.522637  0.566821  0.545343  0.581017  0.622002  \n",
              "123  0.324269  0.309277  0.339090  0.250009  0.270845  0.292507  0.207303  \n",
              "124  0.343318  0.521991  0.519431  0.370331  0.564989  0.571310  0.419112  \n",
              "125  0.348204  0.372594  0.325535  0.325535  0.386530  0.339471  0.339471  \n",
              "\n",
              "[126 rows x 67500 columns]"
            ],
            "text/html": [
              "\n",
              "  <div id=\"df-018724a7-76da-43b8-908d-cf14dda87d53\" class=\"colab-df-container\">\n",
              "    <div>\n",
              "<style scoped>\n",
              "    .dataframe tbody tr th:only-of-type {\n",
              "        vertical-align: middle;\n",
              "    }\n",
              "\n",
              "    .dataframe tbody tr th {\n",
              "        vertical-align: top;\n",
              "    }\n",
              "\n",
              "    .dataframe thead th {\n",
              "        text-align: right;\n",
              "    }\n",
              "</style>\n",
              "<table border=\"1\" class=\"dataframe\">\n",
              "  <thead>\n",
              "    <tr style=\"text-align: right;\">\n",
              "      <th></th>\n",
              "      <th>0</th>\n",
              "      <th>1</th>\n",
              "      <th>2</th>\n",
              "      <th>3</th>\n",
              "      <th>4</th>\n",
              "      <th>5</th>\n",
              "      <th>6</th>\n",
              "      <th>7</th>\n",
              "      <th>8</th>\n",
              "      <th>9</th>\n",
              "      <th>...</th>\n",
              "      <th>67490</th>\n",
              "      <th>67491</th>\n",
              "      <th>67492</th>\n",
              "      <th>67493</th>\n",
              "      <th>67494</th>\n",
              "      <th>67495</th>\n",
              "      <th>67496</th>\n",
              "      <th>67497</th>\n",
              "      <th>67498</th>\n",
              "      <th>67499</th>\n",
              "    </tr>\n",
              "  </thead>\n",
              "  <tbody>\n",
              "    <tr>\n",
              "      <th>0</th>\n",
              "      <td>0.866723</td>\n",
              "      <td>0.937311</td>\n",
              "      <td>0.976527</td>\n",
              "      <td>0.871291</td>\n",
              "      <td>0.941879</td>\n",
              "      <td>0.981095</td>\n",
              "      <td>0.877716</td>\n",
              "      <td>0.948305</td>\n",
              "      <td>0.987520</td>\n",
              "      <td>0.881308</td>\n",
              "      <td>...</td>\n",
              "      <td>0.203221</td>\n",
              "      <td>0.289858</td>\n",
              "      <td>0.231564</td>\n",
              "      <td>0.157584</td>\n",
              "      <td>0.345476</td>\n",
              "      <td>0.294443</td>\n",
              "      <td>0.227843</td>\n",
              "      <td>0.353565</td>\n",
              "      <td>0.302585</td>\n",
              "      <td>0.239783</td>\n",
              "    </tr>\n",
              "    <tr>\n",
              "      <th>1</th>\n",
              "      <td>0.268848</td>\n",
              "      <td>0.272769</td>\n",
              "      <td>0.253161</td>\n",
              "      <td>0.268848</td>\n",
              "      <td>0.272769</td>\n",
              "      <td>0.253161</td>\n",
              "      <td>0.268848</td>\n",
              "      <td>0.272770</td>\n",
              "      <td>0.253162</td>\n",
              "      <td>0.270758</td>\n",
              "      <td>...</td>\n",
              "      <td>0.163944</td>\n",
              "      <td>0.305962</td>\n",
              "      <td>0.231452</td>\n",
              "      <td>0.172628</td>\n",
              "      <td>0.301612</td>\n",
              "      <td>0.227102</td>\n",
              "      <td>0.168278</td>\n",
              "      <td>0.300758</td>\n",
              "      <td>0.226249</td>\n",
              "      <td>0.167425</td>\n",
              "    </tr>\n",
              "    <tr>\n",
              "      <th>2</th>\n",
              "      <td>0.019565</td>\n",
              "      <td>0.023487</td>\n",
              "      <td>0.003879</td>\n",
              "      <td>0.019526</td>\n",
              "      <td>0.023448</td>\n",
              "      <td>0.003840</td>\n",
              "      <td>0.019402</td>\n",
              "      <td>0.023324</td>\n",
              "      <td>0.003716</td>\n",
              "      <td>0.019519</td>\n",
              "      <td>...</td>\n",
              "      <td>0.115346</td>\n",
              "      <td>0.391870</td>\n",
              "      <td>0.195922</td>\n",
              "      <td>0.105726</td>\n",
              "      <td>0.366772</td>\n",
              "      <td>0.175478</td>\n",
              "      <td>0.085282</td>\n",
              "      <td>0.358876</td>\n",
              "      <td>0.169046</td>\n",
              "      <td>0.078849</td>\n",
              "    </tr>\n",
              "    <tr>\n",
              "      <th>3</th>\n",
              "      <td>0.984314</td>\n",
              "      <td>0.847059</td>\n",
              "      <td>0.831373</td>\n",
              "      <td>0.984314</td>\n",
              "      <td>0.847059</td>\n",
              "      <td>0.831373</td>\n",
              "      <td>0.984314</td>\n",
              "      <td>0.847059</td>\n",
              "      <td>0.831373</td>\n",
              "      <td>0.984314</td>\n",
              "      <td>...</td>\n",
              "      <td>0.910501</td>\n",
              "      <td>0.941355</td>\n",
              "      <td>0.890196</td>\n",
              "      <td>0.917647</td>\n",
              "      <td>0.941267</td>\n",
              "      <td>0.890287</td>\n",
              "      <td>0.917738</td>\n",
              "      <td>0.945060</td>\n",
              "      <td>0.894079</td>\n",
              "      <td>0.921530</td>\n",
              "    </tr>\n",
              "    <tr>\n",
              "      <th>4</th>\n",
              "      <td>0.154480</td>\n",
              "      <td>0.091735</td>\n",
              "      <td>0.103500</td>\n",
              "      <td>0.169038</td>\n",
              "      <td>0.106293</td>\n",
              "      <td>0.117328</td>\n",
              "      <td>0.167667</td>\n",
              "      <td>0.104989</td>\n",
              "      <td>0.107658</td>\n",
              "      <td>0.153240</td>\n",
              "      <td>...</td>\n",
              "      <td>0.413041</td>\n",
              "      <td>0.386023</td>\n",
              "      <td>0.368375</td>\n",
              "      <td>0.356778</td>\n",
              "      <td>0.370647</td>\n",
              "      <td>0.342864</td>\n",
              "      <td>0.333848</td>\n",
              "      <td>0.356371</td>\n",
              "      <td>0.347214</td>\n",
              "      <td>0.332845</td>\n",
              "    </tr>\n",
              "    <tr>\n",
              "      <th>...</th>\n",
              "      <td>...</td>\n",
              "      <td>...</td>\n",
              "      <td>...</td>\n",
              "      <td>...</td>\n",
              "      <td>...</td>\n",
              "      <td>...</td>\n",
              "      <td>...</td>\n",
              "      <td>...</td>\n",
              "      <td>...</td>\n",
              "      <td>...</td>\n",
              "      <td>...</td>\n",
              "      <td>...</td>\n",
              "      <td>...</td>\n",
              "      <td>...</td>\n",
              "      <td>...</td>\n",
              "      <td>...</td>\n",
              "      <td>...</td>\n",
              "      <td>...</td>\n",
              "      <td>...</td>\n",
              "      <td>...</td>\n",
              "      <td>...</td>\n",
              "    </tr>\n",
              "    <tr>\n",
              "      <th>121</th>\n",
              "      <td>0.469687</td>\n",
              "      <td>0.497138</td>\n",
              "      <td>0.610864</td>\n",
              "      <td>0.520082</td>\n",
              "      <td>0.547533</td>\n",
              "      <td>0.661259</td>\n",
              "      <td>0.546655</td>\n",
              "      <td>0.574106</td>\n",
              "      <td>0.687831</td>\n",
              "      <td>0.500478</td>\n",
              "      <td>...</td>\n",
              "      <td>0.710503</td>\n",
              "      <td>0.521002</td>\n",
              "      <td>0.552375</td>\n",
              "      <td>0.697473</td>\n",
              "      <td>0.531836</td>\n",
              "      <td>0.563209</td>\n",
              "      <td>0.708307</td>\n",
              "      <td>0.529984</td>\n",
              "      <td>0.561357</td>\n",
              "      <td>0.706455</td>\n",
              "    </tr>\n",
              "    <tr>\n",
              "      <th>122</th>\n",
              "      <td>0.282480</td>\n",
              "      <td>0.176598</td>\n",
              "      <td>0.149147</td>\n",
              "      <td>0.263496</td>\n",
              "      <td>0.157613</td>\n",
              "      <td>0.130162</td>\n",
              "      <td>0.247879</td>\n",
              "      <td>0.141997</td>\n",
              "      <td>0.114546</td>\n",
              "      <td>0.244835</td>\n",
              "      <td>...</td>\n",
              "      <td>0.512418</td>\n",
              "      <td>0.432193</td>\n",
              "      <td>0.445754</td>\n",
              "      <td>0.481071</td>\n",
              "      <td>0.494081</td>\n",
              "      <td>0.522637</td>\n",
              "      <td>0.566821</td>\n",
              "      <td>0.545343</td>\n",
              "      <td>0.581017</td>\n",
              "      <td>0.622002</td>\n",
              "    </tr>\n",
              "    <tr>\n",
              "      <th>123</th>\n",
              "      <td>0.391491</td>\n",
              "      <td>0.419671</td>\n",
              "      <td>0.282772</td>\n",
              "      <td>0.385622</td>\n",
              "      <td>0.433520</td>\n",
              "      <td>0.286712</td>\n",
              "      <td>0.378182</td>\n",
              "      <td>0.455436</td>\n",
              "      <td>0.294385</td>\n",
              "      <td>0.325471</td>\n",
              "      <td>...</td>\n",
              "      <td>0.244040</td>\n",
              "      <td>0.386638</td>\n",
              "      <td>0.419167</td>\n",
              "      <td>0.324269</td>\n",
              "      <td>0.309277</td>\n",
              "      <td>0.339090</td>\n",
              "      <td>0.250009</td>\n",
              "      <td>0.270845</td>\n",
              "      <td>0.292507</td>\n",
              "      <td>0.207303</td>\n",
              "    </tr>\n",
              "    <tr>\n",
              "      <th>124</th>\n",
              "      <td>0.592301</td>\n",
              "      <td>0.636024</td>\n",
              "      <td>0.467658</td>\n",
              "      <td>0.643088</td>\n",
              "      <td>0.689688</td>\n",
              "      <td>0.504767</td>\n",
              "      <td>0.654429</td>\n",
              "      <td>0.701192</td>\n",
              "      <td>0.512705</td>\n",
              "      <td>0.689096</td>\n",
              "      <td>...</td>\n",
              "      <td>0.484030</td>\n",
              "      <td>0.494937</td>\n",
              "      <td>0.492173</td>\n",
              "      <td>0.343318</td>\n",
              "      <td>0.521991</td>\n",
              "      <td>0.519431</td>\n",
              "      <td>0.370331</td>\n",
              "      <td>0.564989</td>\n",
              "      <td>0.571310</td>\n",
              "      <td>0.419112</td>\n",
              "    </tr>\n",
              "    <tr>\n",
              "      <th>125</th>\n",
              "      <td>0.612096</td>\n",
              "      <td>0.506214</td>\n",
              "      <td>0.470920</td>\n",
              "      <td>0.568027</td>\n",
              "      <td>0.467242</td>\n",
              "      <td>0.437046</td>\n",
              "      <td>0.544847</td>\n",
              "      <td>0.447135</td>\n",
              "      <td>0.420694</td>\n",
              "      <td>0.409511</td>\n",
              "      <td>...</td>\n",
              "      <td>0.361312</td>\n",
              "      <td>0.395262</td>\n",
              "      <td>0.348204</td>\n",
              "      <td>0.348204</td>\n",
              "      <td>0.372594</td>\n",
              "      <td>0.325535</td>\n",
              "      <td>0.325535</td>\n",
              "      <td>0.386530</td>\n",
              "      <td>0.339471</td>\n",
              "      <td>0.339471</td>\n",
              "    </tr>\n",
              "  </tbody>\n",
              "</table>\n",
              "<p>126 rows × 67500 columns</p>\n",
              "</div>\n",
              "    <div class=\"colab-df-buttons\">\n",
              "\n",
              "  <div class=\"colab-df-container\">\n",
              "    <button class=\"colab-df-convert\" onclick=\"convertToInteractive('df-018724a7-76da-43b8-908d-cf14dda87d53')\"\n",
              "            title=\"Convert this dataframe to an interactive table.\"\n",
              "            style=\"display:none;\">\n",
              "\n",
              "  <svg xmlns=\"http://www.w3.org/2000/svg\" height=\"24px\" viewBox=\"0 -960 960 960\">\n",
              "    <path d=\"M120-120v-720h720v720H120Zm60-500h600v-160H180v160Zm220 220h160v-160H400v160Zm0 220h160v-160H400v160ZM180-400h160v-160H180v160Zm440 0h160v-160H620v160ZM180-180h160v-160H180v160Zm440 0h160v-160H620v160Z\"/>\n",
              "  </svg>\n",
              "    </button>\n",
              "\n",
              "  <style>\n",
              "    .colab-df-container {\n",
              "      display:flex;\n",
              "      gap: 12px;\n",
              "    }\n",
              "\n",
              "    .colab-df-convert {\n",
              "      background-color: #E8F0FE;\n",
              "      border: none;\n",
              "      border-radius: 50%;\n",
              "      cursor: pointer;\n",
              "      display: none;\n",
              "      fill: #1967D2;\n",
              "      height: 32px;\n",
              "      padding: 0 0 0 0;\n",
              "      width: 32px;\n",
              "    }\n",
              "\n",
              "    .colab-df-convert:hover {\n",
              "      background-color: #E2EBFA;\n",
              "      box-shadow: 0px 1px 2px rgba(60, 64, 67, 0.3), 0px 1px 3px 1px rgba(60, 64, 67, 0.15);\n",
              "      fill: #174EA6;\n",
              "    }\n",
              "\n",
              "    .colab-df-buttons div {\n",
              "      margin-bottom: 4px;\n",
              "    }\n",
              "\n",
              "    [theme=dark] .colab-df-convert {\n",
              "      background-color: #3B4455;\n",
              "      fill: #D2E3FC;\n",
              "    }\n",
              "\n",
              "    [theme=dark] .colab-df-convert:hover {\n",
              "      background-color: #434B5C;\n",
              "      box-shadow: 0px 1px 3px 1px rgba(0, 0, 0, 0.15);\n",
              "      filter: drop-shadow(0px 1px 2px rgba(0, 0, 0, 0.3));\n",
              "      fill: #FFFFFF;\n",
              "    }\n",
              "  </style>\n",
              "\n",
              "    <script>\n",
              "      const buttonEl =\n",
              "        document.querySelector('#df-018724a7-76da-43b8-908d-cf14dda87d53 button.colab-df-convert');\n",
              "      buttonEl.style.display =\n",
              "        google.colab.kernel.accessAllowed ? 'block' : 'none';\n",
              "\n",
              "      async function convertToInteractive(key) {\n",
              "        const element = document.querySelector('#df-018724a7-76da-43b8-908d-cf14dda87d53');\n",
              "        const dataTable =\n",
              "          await google.colab.kernel.invokeFunction('convertToInteractive',\n",
              "                                                    [key], {});\n",
              "        if (!dataTable) return;\n",
              "\n",
              "        const docLinkHtml = 'Like what you see? Visit the ' +\n",
              "          '<a target=\"_blank\" href=https://colab.research.google.com/notebooks/data_table.ipynb>data table notebook</a>'\n",
              "          + ' to learn more about interactive tables.';\n",
              "        element.innerHTML = '';\n",
              "        dataTable['output_type'] = 'display_data';\n",
              "        await google.colab.output.renderOutput(dataTable, element);\n",
              "        const docLink = document.createElement('div');\n",
              "        docLink.innerHTML = docLinkHtml;\n",
              "        element.appendChild(docLink);\n",
              "      }\n",
              "    </script>\n",
              "  </div>\n",
              "\n",
              "\n",
              "<div id=\"df-6d828d3a-c1cc-4661-91dc-8b9e891eee86\">\n",
              "  <button class=\"colab-df-quickchart\" onclick=\"quickchart('df-6d828d3a-c1cc-4661-91dc-8b9e891eee86')\"\n",
              "            title=\"Suggest charts\"\n",
              "            style=\"display:none;\">\n",
              "\n",
              "<svg xmlns=\"http://www.w3.org/2000/svg\" height=\"24px\"viewBox=\"0 0 24 24\"\n",
              "     width=\"24px\">\n",
              "    <g>\n",
              "        <path d=\"M19 3H5c-1.1 0-2 .9-2 2v14c0 1.1.9 2 2 2h14c1.1 0 2-.9 2-2V5c0-1.1-.9-2-2-2zM9 17H7v-7h2v7zm4 0h-2V7h2v10zm4 0h-2v-4h2v4z\"/>\n",
              "    </g>\n",
              "</svg>\n",
              "  </button>\n",
              "\n",
              "<style>\n",
              "  .colab-df-quickchart {\n",
              "      --bg-color: #E8F0FE;\n",
              "      --fill-color: #1967D2;\n",
              "      --hover-bg-color: #E2EBFA;\n",
              "      --hover-fill-color: #174EA6;\n",
              "      --disabled-fill-color: #AAA;\n",
              "      --disabled-bg-color: #DDD;\n",
              "  }\n",
              "\n",
              "  [theme=dark] .colab-df-quickchart {\n",
              "      --bg-color: #3B4455;\n",
              "      --fill-color: #D2E3FC;\n",
              "      --hover-bg-color: #434B5C;\n",
              "      --hover-fill-color: #FFFFFF;\n",
              "      --disabled-bg-color: #3B4455;\n",
              "      --disabled-fill-color: #666;\n",
              "  }\n",
              "\n",
              "  .colab-df-quickchart {\n",
              "    background-color: var(--bg-color);\n",
              "    border: none;\n",
              "    border-radius: 50%;\n",
              "    cursor: pointer;\n",
              "    display: none;\n",
              "    fill: var(--fill-color);\n",
              "    height: 32px;\n",
              "    padding: 0;\n",
              "    width: 32px;\n",
              "  }\n",
              "\n",
              "  .colab-df-quickchart:hover {\n",
              "    background-color: var(--hover-bg-color);\n",
              "    box-shadow: 0 1px 2px rgba(60, 64, 67, 0.3), 0 1px 3px 1px rgba(60, 64, 67, 0.15);\n",
              "    fill: var(--button-hover-fill-color);\n",
              "  }\n",
              "\n",
              "  .colab-df-quickchart-complete:disabled,\n",
              "  .colab-df-quickchart-complete:disabled:hover {\n",
              "    background-color: var(--disabled-bg-color);\n",
              "    fill: var(--disabled-fill-color);\n",
              "    box-shadow: none;\n",
              "  }\n",
              "\n",
              "  .colab-df-spinner {\n",
              "    border: 2px solid var(--fill-color);\n",
              "    border-color: transparent;\n",
              "    border-bottom-color: var(--fill-color);\n",
              "    animation:\n",
              "      spin 1s steps(1) infinite;\n",
              "  }\n",
              "\n",
              "  @keyframes spin {\n",
              "    0% {\n",
              "      border-color: transparent;\n",
              "      border-bottom-color: var(--fill-color);\n",
              "      border-left-color: var(--fill-color);\n",
              "    }\n",
              "    20% {\n",
              "      border-color: transparent;\n",
              "      border-left-color: var(--fill-color);\n",
              "      border-top-color: var(--fill-color);\n",
              "    }\n",
              "    30% {\n",
              "      border-color: transparent;\n",
              "      border-left-color: var(--fill-color);\n",
              "      border-top-color: var(--fill-color);\n",
              "      border-right-color: var(--fill-color);\n",
              "    }\n",
              "    40% {\n",
              "      border-color: transparent;\n",
              "      border-right-color: var(--fill-color);\n",
              "      border-top-color: var(--fill-color);\n",
              "    }\n",
              "    60% {\n",
              "      border-color: transparent;\n",
              "      border-right-color: var(--fill-color);\n",
              "    }\n",
              "    80% {\n",
              "      border-color: transparent;\n",
              "      border-right-color: var(--fill-color);\n",
              "      border-bottom-color: var(--fill-color);\n",
              "    }\n",
              "    90% {\n",
              "      border-color: transparent;\n",
              "      border-bottom-color: var(--fill-color);\n",
              "    }\n",
              "  }\n",
              "</style>\n",
              "\n",
              "  <script>\n",
              "    async function quickchart(key) {\n",
              "      const quickchartButtonEl =\n",
              "        document.querySelector('#' + key + ' button');\n",
              "      quickchartButtonEl.disabled = true;  // To prevent multiple clicks.\n",
              "      quickchartButtonEl.classList.add('colab-df-spinner');\n",
              "      try {\n",
              "        const charts = await google.colab.kernel.invokeFunction(\n",
              "            'suggestCharts', [key], {});\n",
              "      } catch (error) {\n",
              "        console.error('Error during call to suggestCharts:', error);\n",
              "      }\n",
              "      quickchartButtonEl.classList.remove('colab-df-spinner');\n",
              "      quickchartButtonEl.classList.add('colab-df-quickchart-complete');\n",
              "    }\n",
              "    (() => {\n",
              "      let quickchartButtonEl =\n",
              "        document.querySelector('#df-6d828d3a-c1cc-4661-91dc-8b9e891eee86 button');\n",
              "      quickchartButtonEl.style.display =\n",
              "        google.colab.kernel.accessAllowed ? 'block' : 'none';\n",
              "    })();\n",
              "  </script>\n",
              "</div>\n",
              "    </div>\n",
              "  </div>\n"
            ]
          },
          "metadata": {},
          "execution_count": 19
        }
      ]
    },
    {
      "cell_type": "code",
      "source": [
        "X=np.array(data)\n",
        "X.shape"
      ],
      "metadata": {
        "colab": {
          "base_uri": "https://localhost:8080/"
        },
        "id": "kCeBAQpENBBL",
        "outputId": "3c06da47-1df7-49c7-dd0c-17bb05840a00"
      },
      "execution_count": null,
      "outputs": [
        {
          "output_type": "execute_result",
          "data": {
            "text/plain": [
              "(126, 67500)"
            ]
          },
          "metadata": {},
          "execution_count": 15
        }
      ]
    },
    {
      "cell_type": "code",
      "source": [
        "y=np.array(target)\n",
        "y"
      ],
      "metadata": {
        "colab": {
          "base_uri": "https://localhost:8080/"
        },
        "id": "rcu184mIOYf1",
        "outputId": "33301394-03ca-475e-c774-600213ac5698"
      },
      "execution_count": null,
      "outputs": [
        {
          "output_type": "execute_result",
          "data": {
            "text/plain": [
              "array([0, 0, 0, 0, 0, 0, 0, 0, 0, 0, 0, 0, 0, 0, 0, 0, 0, 0, 0, 0, 0, 0,\n",
              "       0, 0, 0, 0, 0, 0, 0, 0, 0, 0, 0, 0, 0, 0, 0, 0, 0, 0, 0, 0, 0, 0,\n",
              "       0, 0, 0, 0, 0, 0, 0, 0, 0, 0, 0, 0, 0, 0, 0, 0, 1, 1, 1, 1, 1, 1,\n",
              "       1, 1, 1, 1, 1, 1, 1, 1, 1, 1, 1, 1, 1, 1, 1, 1, 1, 1, 1, 1, 1, 1,\n",
              "       1, 1, 1, 1, 1, 1, 1, 1, 1, 1, 1, 1, 1, 1, 1, 1, 1, 1, 1, 1, 1, 1,\n",
              "       1, 1, 1, 1, 1, 1, 1, 1, 1, 1, 1, 1, 1, 1, 1, 1])"
            ]
          },
          "metadata": {},
          "execution_count": 16
        }
      ]
    },
    {
      "cell_type": "code",
      "source": [
        "X_train,X_test,y_train,y_test=train_test_split(X,y,test_size=0.3,random_state=1)"
      ],
      "metadata": {
        "id": "h_kA3EW-QRTe"
      },
      "execution_count": null,
      "outputs": []
    },
    {
      "cell_type": "code",
      "source": [
        "sm=SVC()\n",
        "sm.fit(X_train,y_train)"
      ],
      "metadata": {
        "colab": {
          "base_uri": "https://localhost:8080/",
          "height": 74
        },
        "id": "8cL1Slt1Qlo7",
        "outputId": "6661d558-cea4-4c52-9260-30f4ca556f64"
      },
      "execution_count": null,
      "outputs": [
        {
          "output_type": "execute_result",
          "data": {
            "text/plain": [
              "SVC()"
            ],
            "text/html": [
              "<style>#sk-container-id-1 {color: black;background-color: white;}#sk-container-id-1 pre{padding: 0;}#sk-container-id-1 div.sk-toggleable {background-color: white;}#sk-container-id-1 label.sk-toggleable__label {cursor: pointer;display: block;width: 100%;margin-bottom: 0;padding: 0.3em;box-sizing: border-box;text-align: center;}#sk-container-id-1 label.sk-toggleable__label-arrow:before {content: \"▸\";float: left;margin-right: 0.25em;color: #696969;}#sk-container-id-1 label.sk-toggleable__label-arrow:hover:before {color: black;}#sk-container-id-1 div.sk-estimator:hover label.sk-toggleable__label-arrow:before {color: black;}#sk-container-id-1 div.sk-toggleable__content {max-height: 0;max-width: 0;overflow: hidden;text-align: left;background-color: #f0f8ff;}#sk-container-id-1 div.sk-toggleable__content pre {margin: 0.2em;color: black;border-radius: 0.25em;background-color: #f0f8ff;}#sk-container-id-1 input.sk-toggleable__control:checked~div.sk-toggleable__content {max-height: 200px;max-width: 100%;overflow: auto;}#sk-container-id-1 input.sk-toggleable__control:checked~label.sk-toggleable__label-arrow:before {content: \"▾\";}#sk-container-id-1 div.sk-estimator input.sk-toggleable__control:checked~label.sk-toggleable__label {background-color: #d4ebff;}#sk-container-id-1 div.sk-label input.sk-toggleable__control:checked~label.sk-toggleable__label {background-color: #d4ebff;}#sk-container-id-1 input.sk-hidden--visually {border: 0;clip: rect(1px 1px 1px 1px);clip: rect(1px, 1px, 1px, 1px);height: 1px;margin: -1px;overflow: hidden;padding: 0;position: absolute;width: 1px;}#sk-container-id-1 div.sk-estimator {font-family: monospace;background-color: #f0f8ff;border: 1px dotted black;border-radius: 0.25em;box-sizing: border-box;margin-bottom: 0.5em;}#sk-container-id-1 div.sk-estimator:hover {background-color: #d4ebff;}#sk-container-id-1 div.sk-parallel-item::after {content: \"\";width: 100%;border-bottom: 1px solid gray;flex-grow: 1;}#sk-container-id-1 div.sk-label:hover label.sk-toggleable__label {background-color: #d4ebff;}#sk-container-id-1 div.sk-serial::before {content: \"\";position: absolute;border-left: 1px solid gray;box-sizing: border-box;top: 0;bottom: 0;left: 50%;z-index: 0;}#sk-container-id-1 div.sk-serial {display: flex;flex-direction: column;align-items: center;background-color: white;padding-right: 0.2em;padding-left: 0.2em;position: relative;}#sk-container-id-1 div.sk-item {position: relative;z-index: 1;}#sk-container-id-1 div.sk-parallel {display: flex;align-items: stretch;justify-content: center;background-color: white;position: relative;}#sk-container-id-1 div.sk-item::before, #sk-container-id-1 div.sk-parallel-item::before {content: \"\";position: absolute;border-left: 1px solid gray;box-sizing: border-box;top: 0;bottom: 0;left: 50%;z-index: -1;}#sk-container-id-1 div.sk-parallel-item {display: flex;flex-direction: column;z-index: 1;position: relative;background-color: white;}#sk-container-id-1 div.sk-parallel-item:first-child::after {align-self: flex-end;width: 50%;}#sk-container-id-1 div.sk-parallel-item:last-child::after {align-self: flex-start;width: 50%;}#sk-container-id-1 div.sk-parallel-item:only-child::after {width: 0;}#sk-container-id-1 div.sk-dashed-wrapped {border: 1px dashed gray;margin: 0 0.4em 0.5em 0.4em;box-sizing: border-box;padding-bottom: 0.4em;background-color: white;}#sk-container-id-1 div.sk-label label {font-family: monospace;font-weight: bold;display: inline-block;line-height: 1.2em;}#sk-container-id-1 div.sk-label-container {text-align: center;}#sk-container-id-1 div.sk-container {/* jupyter's `normalize.less` sets `[hidden] { display: none; }` but bootstrap.min.css set `[hidden] { display: none !important; }` so we also need the `!important` here to be able to override the default hidden behavior on the sphinx rendered scikit-learn.org. See: https://github.com/scikit-learn/scikit-learn/issues/21755 */display: inline-block !important;position: relative;}#sk-container-id-1 div.sk-text-repr-fallback {display: none;}</style><div id=\"sk-container-id-1\" class=\"sk-top-container\"><div class=\"sk-text-repr-fallback\"><pre>SVC()</pre><b>In a Jupyter environment, please rerun this cell to show the HTML representation or trust the notebook. <br />On GitHub, the HTML representation is unable to render, please try loading this page with nbviewer.org.</b></div><div class=\"sk-container\" hidden><div class=\"sk-item\"><div class=\"sk-estimator sk-toggleable\"><input class=\"sk-toggleable__control sk-hidden--visually\" id=\"sk-estimator-id-1\" type=\"checkbox\" checked><label for=\"sk-estimator-id-1\" class=\"sk-toggleable__label sk-toggleable__label-arrow\">SVC</label><div class=\"sk-toggleable__content\"><pre>SVC()</pre></div></div></div></div></div>"
            ]
          },
          "metadata": {},
          "execution_count": 18
        }
      ]
    },
    {
      "cell_type": "code",
      "source": [
        "y_pred=sm.predict(X_test)\n",
        "y_pred"
      ],
      "metadata": {
        "colab": {
          "base_uri": "https://localhost:8080/"
        },
        "id": "L2l7eoegRnQj",
        "outputId": "02330a8a-0d20-4749-9d0e-e4725d32b457"
      },
      "execution_count": null,
      "outputs": [
        {
          "output_type": "execute_result",
          "data": {
            "text/plain": [
              "array([0, 0, 0, 0, 0, 0, 0, 0, 1, 0, 1, 0, 0, 0, 1, 1, 0, 0, 0, 1, 0, 1,\n",
              "       0, 0, 1, 1, 1, 0, 0, 0, 0, 0, 0, 1, 0, 1, 1, 0])"
            ]
          },
          "metadata": {},
          "execution_count": 20
        }
      ]
    },
    {
      "cell_type": "code",
      "source": [
        "print('confmatrix:',ConfusionMatrixDisplay.from_predictions(y_test,y_pred))\n",
        "print('classification:',classification_report(y_test,y_pred))\n"
      ],
      "metadata": {
        "colab": {
          "base_uri": "https://localhost:8080/",
          "height": 623
        },
        "id": "Doj0V91uR2f5",
        "outputId": "fd3e16cf-e594-4484-dcf9-8fba1a550e0c"
      },
      "execution_count": null,
      "outputs": [
        {
          "output_type": "stream",
          "name": "stdout",
          "text": [
            "confmatrix: <sklearn.metrics._plot.confusion_matrix.ConfusionMatrixDisplay object at 0x79fac24eead0>\n",
            "classification:               precision    recall  f1-score   support\n",
            "\n",
            "           0       0.42      0.73      0.54        15\n",
            "           1       0.67      0.35      0.46        23\n",
            "\n",
            "    accuracy                           0.50        38\n",
            "   macro avg       0.54      0.54      0.50        38\n",
            "weighted avg       0.57      0.50      0.49        38\n",
            "\n"
          ]
        },
        {
          "output_type": "display_data",
          "data": {
            "text/plain": [
              "<Figure size 640x480 with 2 Axes>"
            ],
            "image/png": "[encoded data removed]"
          },
          "metadata": {}
        }
      ]
    },
    {
      "cell_type": "code",
      "source": [
        "img=imread('/content/drive/MyDrive/kitten.jpg')\n",
        "img"
      ],
      "metadata": {
        "colab": {
          "base_uri": "https://localhost:8080/"
        },
        "id": "mHZorGV3Skgy",
        "outputId": "a4147fc5-f86e-46c1-83db-a11a9920b68e"
      },
      "execution_count": null,
      "outputs": [
        {
          "output_type": "execute_result",
          "data": {
            "text/plain": [
              "array([[[237, 220, 213],\n",
              "        [237, 220, 213],\n",
              "        [237, 220, 213],\n",
              "        ...,\n",
              "        [183, 181, 182],\n",
              "        [180, 178, 179],\n",
              "        [180, 178, 179]],\n",
              "\n",
              "       [[237, 220, 213],\n",
              "        [237, 220, 213],\n",
              "        [236, 219, 212],\n",
              "        ...,\n",
              "        [183, 181, 182],\n",
              "        [183, 181, 182],\n",
              "        [183, 181, 182]],\n",
              "\n",
              "       [[236, 219, 212],\n",
              "        [236, 219, 212],\n",
              "        [236, 219, 212],\n",
              "        ...,\n",
              "        [183, 181, 182],\n",
              "        [184, 182, 183],\n",
              "        [184, 182, 183]],\n",
              "\n",
              "       ...,\n",
              "\n",
              "       [[168, 176, 189],\n",
              "        [169, 177, 190],\n",
              "        [170, 178, 191],\n",
              "        ...,\n",
              "        [162, 174, 186],\n",
              "        [159, 171, 183],\n",
              "        [159, 171, 183]],\n",
              "\n",
              "       [[168, 176, 189],\n",
              "        [170, 178, 191],\n",
              "        [172, 180, 193],\n",
              "        ...,\n",
              "        [162, 174, 186],\n",
              "        [160, 172, 184],\n",
              "        [160, 172, 184]],\n",
              "\n",
              "       [[166, 176, 188],\n",
              "        [167, 177, 189],\n",
              "        [168, 178, 190],\n",
              "        ...,\n",
              "        [165, 175, 187],\n",
              "        [162, 172, 184],\n",
              "        [162, 172, 184]]], dtype=uint8)"
            ]
          },
          "metadata": {},
          "execution_count": 23
        }
      ]
    },
    {
      "cell_type": "code",
      "source": [
        "X.shape"
      ],
      "metadata": {
        "colab": {
          "base_uri": "https://localhost:8080/"
        },
        "id": "Cb2UNRYkTsZm",
        "outputId": "e07abf20-d8dd-46a6-cb1d-ba5ecdfcdbe5"
      },
      "execution_count": null,
      "outputs": [
        {
          "output_type": "execute_result",
          "data": {
            "text/plain": [
              "(126, 67500)"
            ]
          },
          "metadata": {},
          "execution_count": 24
        }
      ]
    },
    {
      "cell_type": "code",
      "source": [
        "img1=resize(img,(150,150,3)).flatten()\n",
        "img1"
      ],
      "metadata": {
        "colab": {
          "base_uri": "https://localhost:8080/"
        },
        "id": "Amk93PyUT0Th",
        "outputId": "cbed6738-49ef-42ca-91da-400ed6a8adfc"
      },
      "execution_count": null,
      "outputs": [
        {
          "output_type": "execute_result",
          "data": {
            "text/plain": [
              "array([0.92785976, 0.85825685, 0.83624124, ..., 0.63328586, 0.68366165,\n",
              "       0.73517785])"
            ]
          },
          "metadata": {},
          "execution_count": 25
        }
      ]
    },
    {
      "cell_type": "code",
      "source": [
        "img1=img1.reshape(1,-1)\n",
        "img1.shape"
      ],
      "metadata": {
        "colab": {
          "base_uri": "https://localhost:8080/"
        },
        "id": "6QFY8TdHUYoO",
        "outputId": "cdf7fd4b-4684-4853-b4a9-ccd0d837316b"
      },
      "execution_count": null,
      "outputs": [
        {
          "output_type": "execute_result",
          "data": {
            "text/plain": [
              "(1, 67500)"
            ]
          },
          "metadata": {},
          "execution_count": 26
        }
      ]
    },
    {
      "cell_type": "code",
      "source": [
        "y_new=sm.predict(img1)\n",
        "print(Categories[y_new.item()])"
      ],
      "metadata": {
        "colab": {
          "base_uri": "https://localhost:8080/"
        },
        "id": "byZN4g8bUqEx",
        "outputId": "b842521f-4969-4ba2-d7a8-ef49af9969bf"
      },
      "execution_count": null,
      "outputs": [
        {
          "output_type": "stream",
          "name": "stdout",
          "text": [
            "Cat\n"
          ]
        }
      ]
    }
  ]
}